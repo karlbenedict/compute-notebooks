{
 "cells": [
  {
   "cell_type": "code",
   "execution_count": 4,
   "metadata": {
    "collapsed": false
   },
   "outputs": [
    {
     "ename": "LoadError",
     "evalue": "LoadError: syntax: line break in \":\" expression\nwhile loading In[4], in expression starting on line 4",
     "output_type": "error",
     "traceback": [
      "LoadError: syntax: line break in \":\" expression\nwhile loading In[4], in expression starting on line 4",
      ""
     ]
    }
   ],
   "source": [
    "a = 5\n",
    "b = 10\n",
    "while b > a:\n",
    "    print(\"b=\"+str(b))\n",
    "    b = b-1\n",
    "print(\"I'm outside the block\")"
   ]
  },
  {
   "cell_type": "code",
   "execution_count": null,
   "metadata": {
    "collapsed": true
   },
   "outputs": [],
   "source": []
  },
  {
   "cell_type": "code",
   "execution_count": null,
   "metadata": {
    "collapsed": true
   },
   "outputs": [],
   "source": []
  }
 ],
 "metadata": {
  "kernelspec": {
   "display_name": "Julia 0.5.0",
   "language": "julia",
   "name": "julia-0.5"
  },
  "language_info": {
   "file_extension": ".jl",
   "mimetype": "application/julia",
   "name": "julia",
   "version": "0.5.0"
  }
 },
 "nbformat": 4,
 "nbformat_minor": 1
}
