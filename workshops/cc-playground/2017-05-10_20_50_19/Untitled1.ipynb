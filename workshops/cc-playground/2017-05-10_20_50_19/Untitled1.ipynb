{
 "cells": [
  {
   "cell_type": "code",
   "execution_count": 1,
   "metadata": {
    "collapsed": false
   },
   "outputs": [
    {
     "name": "stdout",
     "output_type": "stream",
     "text": [
      "b=10\n",
      "b=9\n",
      "b=8\n",
      "b=7\n",
      "b=6\n",
      "I'm outside the block\n"
     ]
    }
   ],
   "source": [
    "a = 5\n",
    "b = 10\n",
    "while b > a:\n",
    "    print(\"b=\"+str(b))\n",
    "    b = b-1\n",
    "print(\"I'm outside the block\")"
   ]
  }
 ],
 "metadata": {
  "kernelspec": {
   "display_name": "Python 2",
   "language": "python",
   "name": "python2"
  },
  "language_info": {
   "codemirror_mode": {
    "name": "ipython",
    "version": 2
   },
   "file_extension": ".py",
   "mimetype": "text/x-python",
   "name": "python",
   "nbconvert_exporter": "python",
   "pygments_lexer": "ipython2",
   "version": "2.7.12"
  }
 },
 "nbformat": 4,
 "nbformat_minor": 1
}
