{
 "cells": [
  {
   "cell_type": "code",
   "execution_count": 10,
   "metadata": {
    "collapsed": false
   },
   "outputs": [
    {
     "name": "stdout",
     "output_type": "stream",
     "text": [
      "{\"ALAND\": 174842282.0, \"AIANNHCE\": \"4345\", \"AIANNHR\": \"F\", \"COMPTYP\": \"R\", \"NAMELSAD\": \"Turtle Mountain Reservation\", \"LSAD\": \"86\", \"AIANNHNS\": \"01934334\", \"NAME\": \"Turtle Mountain\", \"INTPTLAT\": \"+48.8622415\", \"GEOID\": \"4345R\", \"CLASSFP\": \"D8\", \"MinSimpTol\": 0.00625, \"AWATER\": 11203087.0, \"MTFCC\": \"G2101\", \"FUNCSTAT\": \"A\", \"MaxSimpTol\": 0.05, \"INTPTLON\": \"-099.7943651\"}\n"
     ]
    }
   ],
   "source": [
    "import requests as rq\n",
    "import json\n",
    "import ast\n",
    "\n",
    "sourceURL = \"https://github.com/nawrs/nawrs/raw/GeoJSON/JSON/ReferenceLayers/tl_2011_BS_5hundthDD.geojson\"\n",
    "\n",
    "r = rq.get(\"https://github.com/nawrs/nawrs/raw/GeoJSON/JSON/ReferenceLayers/tl_2011_BS_5hundthDD.geojson\")\n",
    "sourceString = r.text\n",
    "#print(sourceString)\n",
    "sourceJSON = json.loads(sourceString)\n",
    "dumpJSON = json.dumps(sourceJSON['features'][0]['properties'])\n",
    "print(dumpJSON)"
   ]
  },
  {
   "cell_type": "code",
   "execution_count": null,
   "metadata": {
    "collapsed": true
   },
   "outputs": [],
   "source": []
  }
 ],
 "metadata": {
  "kernelspec": {
   "display_name": "Python 3",
   "language": "python",
   "name": "python3"
  },
  "language_info": {
   "codemirror_mode": {
    "name": "ipython",
    "version": 3
   },
   "file_extension": ".py",
   "mimetype": "text/x-python",
   "name": "python",
   "nbconvert_exporter": "python",
   "pygments_lexer": "ipython3",
   "version": "3.5.2"
  }
 },
 "nbformat": 4,
 "nbformat_minor": 1
}
