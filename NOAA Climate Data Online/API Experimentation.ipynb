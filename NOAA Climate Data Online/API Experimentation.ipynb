{
 "cells": [
  {
   "cell_type": "code",
   "execution_count": 12,
   "metadata": {
    "collapsed": true
   },
   "outputs": [],
   "source": [
    "import requests\n",
    "from datetime import date"
   ]
  },
  {
   "cell_type": "code",
   "execution_count": 17,
   "metadata": {
    "collapsed": false
   },
   "outputs": [],
   "source": [
    "myToken = \"HBKncTLTetGzZfmPixptQIwhQodfsRjs\"\n",
    "baseURL = \"https://www.ncdc.noaa.gov/cdo-web/api/v2/\"\n",
    "\n",
    "td = datetime.timedelta(days=-5)\n",
    "startDate = date.today() + td\n",
    "endDate = date.today()\n",
    "limit = 10 # the number of items to limit a return set to\n",
    "\n",
    "# transect limits (degrees)\n",
    "minX = -126\n",
    "maxX = -60\n",
    "minY = 20\n",
    "maxY = 60\n",
    "interval = 5 #degrees\n"
   ]
  },
  {
   "cell_type": "code",
   "execution_count": 18,
   "metadata": {
    "collapsed": false
   },
   "outputs": [
    {
     "data": {
      "text/plain": [
       "{'metadata': {'resultset': {'count': 17116, 'limit': 10, 'offset': 1}},\n",
       " 'results': [{'datacoverage': 0.8394,\n",
       "   'elevation': 75,\n",
       "   'elevationUnit': 'METERS',\n",
       "   'id': 'GHCND:CA001011500',\n",
       "   'latitude': 48.9333,\n",
       "   'longitude': -123.75,\n",
       "   'maxdate': '2017-07-29',\n",
       "   'mindate': '1919-01-01',\n",
       "   'name': 'CHEMAINUS, CA'},\n",
       "  {'datacoverage': 0.7185,\n",
       "   'elevation': 15,\n",
       "   'elevationUnit': 'METERS',\n",
       "   'id': 'GHCND:CA001012475',\n",
       "   'latitude': 48.4167,\n",
       "   'longitude': -123.2333,\n",
       "   'maxdate': '2017-07-29',\n",
       "   'mindate': '1997-04-01',\n",
       "   'name': 'DISCOVERY ISLAND'},\n",
       "  {'datacoverage': 0.8613,\n",
       "   'elevation': 3,\n",
       "   'elevationUnit': 'METERS',\n",
       "   'id': 'GHCND:CA001012710',\n",
       "   'latitude': 48.4333,\n",
       "   'longitude': -123.4333,\n",
       "   'maxdate': '2017-07-29',\n",
       "   'mindate': '1957-10-01',\n",
       "   'name': 'ESQUIMALT HARBOUR, CA'},\n",
       "  {'datacoverage': 0.9362,\n",
       "   'elevation': 6,\n",
       "   'elevationUnit': 'METERS',\n",
       "   'id': 'GHCND:CA0010130MN',\n",
       "   'latitude': 48.9833,\n",
       "   'longitude': -123.5667,\n",
       "   'maxdate': '2017-07-29',\n",
       "   'mindate': '1975-01-13',\n",
       "   'name': 'GALIANO NORTH, CA'},\n",
       "  {'datacoverage': 0.328,\n",
       "   'elevation': 366,\n",
       "   'elevationUnit': 'METERS',\n",
       "   'id': 'GHCND:CA001014820',\n",
       "   'latitude': 48.5667,\n",
       "   'longitude': -123.5333,\n",
       "   'maxdate': '2017-07-29',\n",
       "   'mindate': '1920-01-12',\n",
       "   'name': 'MALAHAT, CA'},\n",
       "  {'datacoverage': 0.9683,\n",
       "   'elevation': 47,\n",
       "   'elevationUnit': 'METERS',\n",
       "   'id': 'GHCND:CA001015630',\n",
       "   'latitude': 48.8167,\n",
       "   'longitude': -123.7167,\n",
       "   'maxdate': '2017-07-29',\n",
       "   'mindate': '2007-11-27',\n",
       "   'name': 'NORTH COWICHAN, CA'},\n",
       "  {'datacoverage': 0.7947,\n",
       "   'elevation': 98,\n",
       "   'elevationUnit': 'METERS',\n",
       "   'id': 'GHCND:CA001015638',\n",
       "   'latitude': 48.7667,\n",
       "   'longitude': -123.2833,\n",
       "   'maxdate': '2017-07-29',\n",
       "   'mindate': '1972-02-14',\n",
       "   'name': 'NORTH PENDER ISLAND, CA'},\n",
       "  {'datacoverage': 0.2402,\n",
       "   'elevation': 3,\n",
       "   'elevationUnit': 'METERS',\n",
       "   'id': 'GHCND:CA001016640',\n",
       "   'latitude': 48.3,\n",
       "   'longitude': -123.5333,\n",
       "   'maxdate': '2017-07-29',\n",
       "   'mindate': '1996-06-06',\n",
       "   'name': 'RACE ROCKS CS'},\n",
       "  {'datacoverage': 0.5288,\n",
       "   'elevation': 178,\n",
       "   'elevationUnit': 'METERS',\n",
       "   'id': 'GHCND:CA001017099',\n",
       "   'latitude': 48.7833,\n",
       "   'longitude': -123.1333,\n",
       "   'maxdate': '2017-07-29',\n",
       "   'mindate': '1991-06-01',\n",
       "   'name': 'SATURNA CAPMON CS, CA'},\n",
       "  {'datacoverage': 0.8894,\n",
       "   'elevation': 24,\n",
       "   'elevationUnit': 'METERS',\n",
       "   'id': 'GHCND:CA001017101',\n",
       "   'latitude': 48.7833,\n",
       "   'longitude': -123.05,\n",
       "   'maxdate': '2017-07-29',\n",
       "   'mindate': '1980-05-01',\n",
       "   'name': 'SATURNA ISLAND CS, CA'}]}"
      ]
     },
     "execution_count": 18,
     "metadata": {},
     "output_type": "execute_result"
    }
   ],
   "source": [
    "# stations\n",
    "headers = {'token':myToken}\n",
    "baseRequestURL = baseURL + \"stations\"\n",
    "params = {'limit':limit, 'startdate':date.isoformat(startDate)}\n",
    "\n",
    "r = requests.get(baseRequestURL,headers=headers,params=params)\n",
    "r.json()"
   ]
  },
  {
   "cell_type": "code",
   "execution_count": null,
   "metadata": {
    "collapsed": false
   },
   "outputs": [],
   "source": []
  },
  {
   "cell_type": "code",
   "execution_count": null,
   "metadata": {
    "collapsed": true
   },
   "outputs": [],
   "source": []
  },
  {
   "cell_type": "code",
   "execution_count": null,
   "metadata": {
    "collapsed": true
   },
   "outputs": [],
   "source": []
  }
 ],
 "metadata": {
  "kernelspec": {
   "display_name": "Python 3",
   "language": "python",
   "name": "python3"
  },
  "language_info": {
   "codemirror_mode": {
    "name": "ipython",
    "version": 3
   },
   "file_extension": ".py",
   "mimetype": "text/x-python",
   "name": "python",
   "nbconvert_exporter": "python",
   "pygments_lexer": "ipython3",
   "version": "3.5.2"
  }
 },
 "nbformat": 4,
 "nbformat_minor": 1
}
