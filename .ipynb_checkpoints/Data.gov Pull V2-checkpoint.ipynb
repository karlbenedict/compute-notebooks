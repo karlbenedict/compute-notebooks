{
 "cells": [
  {
   "cell_type": "code",
   "execution_count": 1,
   "metadata": {
    "collapsed": false
   },
   "outputs": [
    {
     "name": "stdout",
     "output_type": "stream",
     "text": [
      "Requirement already up-to-date: pip in /opt/conda/lib/python3.5/site-packages\n",
      "Requirement already satisfied: elasticsearch in /opt/conda/lib/python3.5/site-packages\n",
      "Requirement already satisfied: urllib3<2.0,>=1.8 in /opt/conda/lib/python3.5/site-packages (from elasticsearch)\n",
      "Requirement already satisfied: certifi in /opt/conda/lib/python3.5/site-packages\n"
     ]
    }
   ],
   "source": [
    "!pip install --upgrade pip\n",
    "!pip install elasticsearch\n",
    "!pip install certifi"
   ]
  },
  {
   "cell_type": "code",
   "execution_count": 2,
   "metadata": {
    "collapsed": false
   },
   "outputs": [],
   "source": [
    "import urllib.request\n",
    "import datetime\n",
    "import json\n",
    "import os\n",
    "import uuid\n",
    "import requests\n",
    "from elasticsearch import Elasticsearch"
   ]
  },
  {
   "cell_type": "code",
   "execution_count": 3,
   "metadata": {
    "collapsed": false
   },
   "outputs": [
    {
     "name": "stdout",
     "output_type": "stream",
     "text": [
      "{\n",
      "  \"name\" : \"edBz89I\",\n",
      "  \"cluster_name\" : \"elasticsearch\",\n",
      "  \"cluster_uuid\" : \"NRcv8IVgRiGUjDbbZX95sw\",\n",
      "  \"version\" : {\n",
      "    \"number\" : \"5.1.1\",\n",
      "    \"build_hash\" : \"5395e21\",\n",
      "    \"build_date\" : \"2016-12-06T12:36:15.409Z\",\n",
      "    \"build_snapshot\" : false,\n",
      "    \"lucene_version\" : \"6.3.0\"\n",
      "  },\n",
      "  \"tagline\" : \"You Know, for Search\"\n",
      "}\n",
      "\n"
     ]
    }
   ],
   "source": [
    "esHost = \"http://es:9200\"\n",
    "# test the connection\n",
    "esclient = Elasticsearch([esHost])\n",
    "print(req.text)\n",
    "    \n"
   ]
  },
  {
   "cell_type": "code",
   "execution_count": null,
   "metadata": {
    "collapsed": true
   },
   "outputs": [],
   "source": [
    "# set default variables for subsequent runs\n",
    "requestSize = 1\n",
    "requestLimit = 2\n",
    "requestBaseURL = \"https://catalog.data.gov/api/3/action\"\n",
    "requestFunction = \"package_search\"\n",
    "dataBaseDirectory = \"Data.gov_Files\""
   ]
  },
  {
   "cell_type": "code",
   "execution_count": null,
   "metadata": {
    "collapsed": false
   },
   "outputs": [],
   "source": [
    "class Harvest:\n",
    "    '''\n",
    "    A class representing a specific harvest of metadata\n",
    "    '''\n",
    "    \n",
    "    def __init__(self,requestSize,requestLimit,requestBaseURL,requestFunction,dataBaseDirectory):\n",
    "        '''\n",
    "        Create a new harvest instance\n",
    "        The class is initialized with the following parameters\n",
    "          * requestSize - the number of datasets that should be included in each request\n",
    "          * requestLimit - the maximum number of requests that should be made (a small number for this can be used for testing purposes)\n",
    "          * requestBaseURL - the URL that is common to all requests being submitted\n",
    "          * requestFunction - the API function that is being called for the specific harvest run\n",
    "          * dataBaseDirectory - the base directory location (without following \"/\") where the retrieved files should be stored\n",
    "          \n",
    "        '''\n",
    "        self.requestSize = requestSize\n",
    "        self.requestLimit = requestLimit\n",
    "        self.requestBaseURL = requestBaseURL\n",
    "        self.requestFunction = requestFunction\n",
    "        self.dataBaseDirectory = dataBaseDirectory\n",
    "        self.timestamp = datetime.datetime.now()\n",
    "        self.timestring = '{:%Y-%m-%dT%H:%M:%S}'.format(self.timestamp)\n",
    "        self.saveDirectory = self.dataBaseDirectory + '/' + self.timestring\n",
    "        self.runID = str(uuid.uuid4())\n",
    "        self.logfile = self.saveDirectory + '/' + self.timestring + '_' + self.runID  + \".log\"\n",
    "        self.testResults = self.saveDirectory + \"/\" + self.timestring + '_' + self.runID  + \"_testResults.txt\" \n",
    "        self.resourceList = self.saveDirectory + \"/\" + self.timestring + '_' + self.runID  + \"_resources.txt\"\n",
    "        self.testURLs = self.saveDirectory + \"/\" + self.timestring + '_' + self.runID  + \"_testURLs.json\"\n",
    "        self.fileList = []\n",
    "        self.testList = []\n",
    "        self.testCount = 0\n",
    "        #self.testResults = []\n",
    "        #self.resourceList = {}\n",
    "        os.makedirs(self.saveDirectory, exist_ok=True)\n",
    "        \n",
    "        self.writeLog(self.logfile,'Harvest Run')\n",
    "        self.writeLog(self.logfile,'\\tinitiated: ' + self.timestring)\n",
    "        self.writeLog(self.logfile,'\\tharvest ID: ' + self.runID)\n",
    "        self.writeLog(self.logfile,'\\trequestSize: ' + str(self.requestSize))\n",
    "        self.writeLog(self.logfile,'\\trequestLimit: ' + str(self.requestLimit))\n",
    "        self.writeLog(self.logfile,'\\trequestBaseURL: ' + self.requestBaseURL)\n",
    "        self.writeLog(self.logfile,'\\trequestFunction: ' + self.requestFunction)\n",
    "        self.writeLog(self.logfile,'\\tdataBaseDirectory: ' + self.dataBaseDirectory)\n",
    "        \n",
    "        self.initialize()\n",
    "        \n",
    "        \n",
    "    def writeLog(self,filePath,message):\n",
    "        with open(filePath,'a') as f:\n",
    "            f.write('{:%Y-%m-%dT%H:%M:%S}'.format(datetime.datetime.now()) + '\\t')\n",
    "            f.write(message+\"\\n\")\n",
    "    \n",
    "    def initialize(self):\n",
    "        self.harvest()\n",
    "        self.extractResources()\n",
    "        #self.exportResources()\n",
    "    \n",
    "    def harvest(self):\n",
    "        startTime = datetime.datetime.now()\n",
    "        logMessage = \"Harvest Initiated\"\n",
    "        self.writeLog(self.logfile,logMessage)\n",
    "        i=0\n",
    "        numDataSets = 0\n",
    "        finished = False\n",
    "        while not finished:\n",
    "            requestString = self.requestBaseURL + \"/\" + self.requestFunction + \"?\" + \"rows=\" + str(self.requestSize) + \"&\" + \"start=\" + str(i*self.requestSize)\n",
    "            logMessage = str(i) + \".\\tgetting: \" + requestString\n",
    "            self.writeLog(self.logfile,logMessage)\n",
    "\n",
    "            outFilePath = self.saveDirectory + \"/\" + self.runID + \"_\" + self.timestring + \"_\" + '{0:08d}'.format((i*self.requestSize)+1) + \"-\" + '{0:08d}'.format(((i+1)*self.requestSize)) + \".json\"\n",
    "            logMessage = \"\\toutput file path: \" + outFilePath\n",
    "            self.writeLog(self.logfile,logMessage)\n",
    "\n",
    "            with urllib.request.urlopen(requestString) as JSONfile:    \n",
    "                resultString = JSONfile.read().decode('utf-8')\n",
    "                numDataSets = json.loads(resultString)['result']['count']\n",
    "                with open(outFilePath, \"w\") as f:\n",
    "                    f.write(resultString)\n",
    "            self.fileList.append(outFilePath)\n",
    "            i += 1\n",
    "            logMessage = \"\\tFinished processing: \" + outFilePath\n",
    "            self.writeLog(self.logfile,logMessage)\n",
    "            logMessage = \"\\t\" + str(i*self.requestSize) + \" out of \" + str(numDataSets) + \" processed\"\n",
    "            self.writeLog(self.logfile,logMessage)\n",
    "            if i >= requestLimit: finished = True\n",
    "            if i*requestSize > numDataSets: finished = True\n",
    "        endTime = datetime.datetime.now()\n",
    "        self.writeLog(self.logfile,\"Harvest Completed\")\n",
    "        logMessage = \"Harvest Execution Time: \" + str(endTime - startTime)\n",
    "        self.writeLog(self.logfile,logMessage)\n",
    "\n",
    "    def extractResources(self):\n",
    "        startTime = datetime.datetime.now()\n",
    "        for filePath in self.fileList:\n",
    "            with open(filePath) as JSONfile:\n",
    "                logMessage = \"Extracting resources from: \" + filePath\n",
    "                self.writeLog(self.logfile,logMessage)\n",
    "                JSONdict = json.loads(JSONfile.read())\n",
    "                logMessage = \"\\t\".join([\"entryID\",\"orgTitle\",\"orgName\",\"orgID\",\"name\",\"metadataCreated\",\"metadataModified\",\"resourceType\",\"resourceID\",\"created\",\"mimetype\",\"url\"])\n",
    "                self.writeLog(self.resourceList,logMessage)\n",
    "\n",
    "                for result in JSONdict['result']['results']:\n",
    "                    entryID = str(uuid.uuid4())\n",
    "                    orgTitle = result[\"organization\"][\"title\"]\n",
    "                    orgName = result[\"organization\"][\"name\"]\n",
    "                    orgID = result[\"organization\"][\"id\"]\n",
    "                    name = result[\"name\"]\n",
    "                    notes = result[\"notes\"]\n",
    "                    metadataCreated = result[\"metadata_created\"]\n",
    "                    metadataModified = result[\"metadata_modified\"]\n",
    "                    resourceType = result[\"type\"] \n",
    "                    entryResources = {}\n",
    "                    logMessage = \"Identified Resources for: \" + orgName + \"(\" + entryID + \")\"\n",
    "                    self.writeLog(self.logfile,logMessage)\n",
    "                    for resource in result['resources']:\n",
    "                        resourceID = str(uuid.uuid4())\n",
    "                        created = resource[\"created\"]\n",
    "                        mimetype = resource[\"mimetype\"]\n",
    "                        url = resource[\"url\"]\n",
    "                        resourceInfo = {resourceID:{\"created\":created, \"mimetype\":mimetype, \"url\":url}}\n",
    "                        #entryResources.update(resourceInfo)\n",
    "                        #self.writeLog(self.resourceList,str(resourceInfo))\n",
    "                        self.testResource([resourceID,url])\n",
    "                        logMessage = \"\\t\" + resourceID + \", \" + url\n",
    "                        self.writeLog(self.logfile,logMessage)\n",
    "                        logMessage = \"\\telapsed: \" + str(datetime.datetime.now() - startTime) + \":\\t\" + \"\\t\".join([entryID,orgTitle,orgName,orgID,name,metadataCreated,metadataModified,resourceType,resourceID,created,str(mimetype),url])\n",
    "                        self.writeLog(self.resourceList,logMessage)\n",
    "                    #with open(self.resourceList, \"a\") as f:\n",
    "                    logMessage = \"\\telapsed: \" + str(datetime.datetime.now() - startTime) + \":\\t\" + str({entryID:{\"orgTitle\":orgTitle, \"orgName\":orgName, \"orgID\":orgID, \"name\":name, \"metadata_created\":metadataCreated, \"metadata_modified\":metadataModified, \"resourceType\":resourceType, \"resourcesURLs\":entryResources}})\n",
    "                    self.writeLog(self.logfile,logMessage)\n",
    "                                        \n",
    "                    \n",
    "    def testResource(self,resourceList):\n",
    "        self.testCount += 1\n",
    "        logMessage = \"%s. Checking %s, (%s)\"%(self.testCount,resourceList[0], resourceList[1])\n",
    "        self.writeLog(self.logfile,logMessage)\n",
    "        try:\n",
    "            status = requests.head(resourceList[1], timeout=1 )\n",
    "            logMessage = \"\\tchecked: \" + resourceList[1]\n",
    "            self.writeLog(self.logfile,logMessage)\n",
    "            logMessage = \"\\tstatus: \" + str(status)\n",
    "            self.writeLog(self.logfile,logMessage)\n",
    "        except requests.exceptions.ConnectionError as e:\n",
    "            logMessage = \"\\tConnection Error: \" + resourceList[1]\n",
    "            self.writeLog(self.logfile,logMessage)\n",
    "            status = \"failed - connection error - \" + str(e)\n",
    "        except requests.exceptions.Timeout as e:\n",
    "            logMessage = \"\\tTimeout Error: \" + resourceList[1]\n",
    "            self.writeLog(self.logfile,logMessage)\n",
    "            status = \"failed - timeout - \" + str(e)\n",
    "        except requests.exceptions.RequestException as e:\n",
    "            logMessage = \"\\tRequest Exception Error: \" + str(e) + \" -  \" + resourceList[1]\n",
    "            self.writeLog(self.logfile,logMessage)\n",
    "            status = \"failed - request exception - \" + str(e)\n",
    "        except requests.exceptions.InvalidSchema as e:\n",
    "            logMessage = \"\\tNon-HTTP request error: \" + str(e) + \" -  \" + resourceList[1]\n",
    "            self.writeLog(self.logfile,logMessage)\n",
    "            status = \"failed - Non-HTTP request - \" + str(e)\n",
    "        except:\n",
    "            logMessage = \"\\tOther error: \" + resourceList[1]\n",
    "            self.writeLog(self.logfile,logMessage)\n",
    "            status = \"failed - Other error\"\n",
    "\n",
    "\n",
    "            \n",
    "        \n",
    "        logMessage = \"%s\\t%s\\t%s\"%(resourceList[0],resourceList[1],str(status))\n",
    "        self.writeLog(self.testResults,logMessage)\n"
   ]
  },
  {
   "cell_type": "code",
   "execution_count": null,
   "metadata": {
    "collapsed": false
   },
   "outputs": [],
   "source": [
    "requestSize = 10\n",
    "requestLimit = 2\n",
    "requestBaseURL = \"https://catalog.data.gov/api/3/action\"\n",
    "requestFunction = \"package_search\"\n",
    "dataBaseDirectory = \"Data.gov_Files\"\n",
    "\n",
    "testHarvest = Harvest(requestSize,requestLimit,requestBaseURL,requestFunction,dataBaseDirectory)"
   ]
  },
  {
   "cell_type": "code",
   "execution_count": null,
   "metadata": {
    "collapsed": false
   },
   "outputs": [],
   "source": []
  },
  {
   "cell_type": "code",
   "execution_count": null,
   "metadata": {
    "collapsed": true
   },
   "outputs": [],
   "source": []
  }
 ],
 "metadata": {
  "kernelspec": {
   "display_name": "Python 3",
   "language": "python",
   "name": "python3"
  },
  "language_info": {
   "codemirror_mode": {
    "name": "ipython",
    "version": 3
   },
   "file_extension": ".py",
   "mimetype": "text/x-python",
   "name": "python",
   "nbconvert_exporter": "python",
   "pygments_lexer": "ipython3",
   "version": "3.5.2"
  }
 },
 "nbformat": 4,
 "nbformat_minor": 1
}
