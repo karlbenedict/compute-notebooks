{
 "cells": [
  {
   "cell_type": "code",
   "execution_count": 266,
   "metadata": {
    "collapsed": true
   },
   "outputs": [],
   "source": [
    "import requests"
   ]
  },
  {
   "cell_type": "code",
   "execution_count": 267,
   "metadata": {
    "collapsed": true
   },
   "outputs": [],
   "source": [
    "import json"
   ]
  },
  {
   "cell_type": "code",
   "execution_count": 268,
   "metadata": {
    "collapsed": false
   },
   "outputs": [
    {
     "name": "stdout",
     "output_type": "stream",
     "text": [
      "{\n",
      "  \"name\" : \"edBz89I\",\n",
      "  \"cluster_name\" : \"elasticsearch\",\n",
      "  \"cluster_uuid\" : \"NRcv8IVgRiGUjDbbZX95sw\",\n",
      "  \"version\" : {\n",
      "    \"number\" : \"5.1.1\",\n",
      "    \"build_hash\" : \"5395e21\",\n",
      "    \"build_date\" : \"2016-12-06T12:36:15.409Z\",\n",
      "    \"build_snapshot\" : false,\n",
      "    \"lucene_version\" : \"6.3.0\"\n",
      "  },\n",
      "  \"tagline\" : \"You Know, for Search\"\n",
      "}\n",
      "\n"
     ]
    }
   ],
   "source": [
    "i = requests.get(\"http://es:9200/\")\n",
    "print i.text"
   ]
  },
  {
   "cell_type": "code",
   "execution_count": 277,
   "metadata": {
    "collapsed": true
   },
   "outputs": [],
   "source": [
    "polyAddUrl = (\"http://es:9200/nawrs/tribalboundaries/\")"
   ]
  },
  {
   "cell_type": "code",
   "execution_count": 246,
   "metadata": {
    "collapsed": false
   },
   "outputs": [],
   "source": [
    "tribalPoly = { \"boundary\": }"
   ]
  },
  {
   "cell_type": "code",
   "execution_count": 247,
   "metadata": {
    "collapsed": false
   },
   "outputs": [
    {
     "name": "stdout",
     "output_type": "stream",
     "text": [
      "201\n",
      "None\n"
     ]
    }
   ],
   "source": [
    "add_boundary = requests.post(polyAddUrl, data=json.dumps(tribalPoly))\n",
    "print add_boundary.status_code\n",
    "print add_boundary.raise_for_status()"
   ]
  },
  {
   "cell_type": "code",
   "execution_count": 278,
   "metadata": {
    "collapsed": false
   },
   "outputs": [],
   "source": [
    "import os"
   ]
  },
  {
   "cell_type": "code",
   "execution_count": 279,
   "metadata": {
    "collapsed": true
   },
   "outputs": [],
   "source": [
    "polyData = \"\""
   ]
  },
  {
   "cell_type": "code",
   "execution_count": 274,
   "metadata": {
    "collapsed": false
   },
   "outputs": [],
   "source": [
    "polys = os.listdir(\"./trbpolys\")"
   ]
  },
  {
   "cell_type": "code",
   "execution_count": 276,
   "metadata": {
    "collapsed": false,
    "scrolled": true
   },
   "outputs": [],
   "source": [
    "for each in polys:\n",
    "    try:\n",
    "        with open(\"./trbpolys/\" + each, 'r') as data:\n",
    "            polyData = json.loads(data.read())\n",
    "            data.close()\n",
    "        tribalPoly = { \"boundary\": polyData}\n",
    "        add_boundary = requests.post(polyAddUrl, data=json.dumps(tribalPoly))\n",
    "        print each + \": \" + str(add_boundary.status_code)\n",
    "        print each + \": \" + str(add_boundary.raise_for_status())\n",
    "    except:\n",
    "        print each + \" error\"\n",
    "        pass"
   ]
  },
  {
   "cell_type": "code",
   "execution_count": 280,
   "metadata": {
    "collapsed": true
   },
   "outputs": [],
   "source": [
    "initialize = {\n",
    "  \"properties\": {\n",
    "    \"hold\": {\n",
    "      \"type\": \"text\"\n",
    "    }\n",
    "  }\n",
    "}"
   ]
  },
  {
   "cell_type": "code",
   "execution_count": 282,
   "metadata": {
    "collapsed": true
   },
   "outputs": [],
   "source": [
    "addTypeUrl = (\"http://es:9200/nawrs/_mapping/referencelayers\")"
   ]
  },
  {
   "cell_type": "code",
   "execution_count": 283,
   "metadata": {
    "collapsed": false
   },
   "outputs": [
    {
     "name": "stdout",
     "output_type": "stream",
     "text": [
      "200\n",
      "None\n"
     ]
    }
   ],
   "source": [
    "addType = requests.put(addTypeUrl, data=json.dumps(initialize))\n",
    "print addType.status_code\n",
    "print addType.raise_for_status()"
   ]
  },
  {
   "cell_type": "code",
   "execution_count": 284,
   "metadata": {
    "collapsed": true
   },
   "outputs": [],
   "source": [
    "boundarymapping = {\"properties\": {\"boundary\": {\n",
    "    \"type\": \"nested\",\n",
    "    \"properties\": {\"features\": {\"properties\": {\"geometry\": {\"type\": \"geo_shape\"}}}}\n",
    "}}}"
   ]
  },
  {
   "cell_type": "code",
   "execution_count": 285,
   "metadata": {
    "collapsed": false
   },
   "outputs": [
    {
     "name": "stdout",
     "output_type": "stream",
     "text": [
      "200\n",
      "None\n"
     ]
    }
   ],
   "source": [
    "addMapping = requests.put(addTypeUrl, data=json.dumps(boundarymapping))\n",
    "print addMapping.status_code\n",
    "print addMapping.raise_for_status()"
   ]
  },
  {
   "cell_type": "code",
   "execution_count": 297,
   "metadata": {
    "collapsed": true
   },
   "outputs": [],
   "source": [
    "polys = os.listdir(\"./reflayers\")"
   ]
  },
  {
   "cell_type": "code",
   "execution_count": 298,
   "metadata": {
    "collapsed": true
   },
   "outputs": [],
   "source": [
    "polyAddUrl = (\"http://es:9200/nawrs/referencelayers/\")"
   ]
  },
  {
   "cell_type": "code",
   "execution_count": 299,
   "metadata": {
    "collapsed": false
   },
   "outputs": [
    {
     "name": "stdout",
     "output_type": "stream",
     "text": [
      "tl_2011_BS_5hundthDD.geojson: 400\n",
      "tl_2011_BS_5hundthDD.geojson400 Client Error: Bad Request for url: http://es:9200/nawrs/referencelayers/\n",
      "wbdhu4_PR_1hundthDD.geojson: 400\n",
      "wbdhu4_PR_1hundthDD.geojson400 Client Error: Bad Request for url: http://es:9200/nawrs/referencelayers/\n",
      ".ipynb_checkpoints[Errno 21] Is a directory: './reflayers/.ipynb_checkpoints'\n",
      "wbdhu2_PR_1hundthDD.geojson: 400\n",
      "wbdhu2_PR_1hundthDD.geojson400 Client Error: Bad Request for url: http://es:9200/nawrs/referencelayers/\n",
      "tl_2011_PR_1hundthDD.geojson: 400\n",
      "tl_2011_PR_1hundthDD.geojson400 Client Error: Bad Request for url: http://es:9200/nawrs/referencelayers/\n",
      "tl_2011_BS_1hundthDD.geojson: 400\n",
      "tl_2011_BS_1hundthDD.geojson400 Client Error: Bad Request for url: http://es:9200/nawrs/referencelayers/\n",
      "wbdhu2_BS_1hundthDD.geojson: 400\n",
      "wbdhu2_BS_1hundthDD.geojson400 Client Error: Bad Request for url: http://es:9200/nawrs/referencelayers/\n"
     ]
    }
   ],
   "source": [
    "for each in polys:\n",
    "    try:\n",
    "        with open(\"./reflayers/\" + each, 'r') as data:\n",
    "            polyData = json.loads(data.read())\n",
    "            data.close()\n",
    "        refPoly = { \"boundary\": polyData}\n",
    "        add_boundary = requests.post(polyAddUrl, data=json.dumps(refPoly))\n",
    "        print each + \": \" + str(add_boundary.status_code)\n",
    "        print each + \": \" + str(add_boundary.raise_for_status())\n",
    "    except Exception, e:\n",
    "        print each + str(e)\n",
    "        pass"
   ]
  },
  {
   "cell_type": "code",
   "execution_count": null,
   "metadata": {
    "collapsed": true
   },
   "outputs": [],
   "source": []
  }
 ],
 "metadata": {
  "kernelspec": {
   "display_name": "Python 2",
   "language": "python",
   "name": "python2"
  },
  "language_info": {
   "codemirror_mode": {
    "name": "ipython",
    "version": 2
   },
   "file_extension": ".py",
   "mimetype": "text/x-python",
   "name": "python",
   "nbconvert_exporter": "python",
   "pygments_lexer": "ipython2",
   "version": "2.7.12"
  }
 },
 "nbformat": 4,
 "nbformat_minor": 1
}
