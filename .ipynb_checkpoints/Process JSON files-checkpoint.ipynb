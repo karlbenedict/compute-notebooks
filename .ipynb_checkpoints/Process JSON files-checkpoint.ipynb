{
 "cells": [
  {
   "cell_type": "code",
   "execution_count": 1,
   "metadata": {
    "collapsed": true
   },
   "outputs": [],
   "source": [
    "from os import walk\n",
    "import json\n",
    "import datetime\n",
    "import requests\n",
    "import urllib.request"
   ]
  },
  {
   "cell_type": "code",
   "execution_count": null,
   "metadata": {
    "collapsed": false
   },
   "outputs": [],
   "source": [
    "fileDirectory = \"Data.gov_Files\"\n",
    "\n",
    "processLimit = 1\n",
    "f = []\n",
    "output = []\n",
    "for (dirpath, dirnames, filenames) in walk(fileDirectory):\n",
    "    f.extend(filenames)\n",
    "    f.sort()\n",
    "    count = 0\n",
    "    for file in f:\n",
    "        (dir,timestamp,range) = file.split(\"_\")\n",
    "        filePath = fileDirectory + \"/\" + file\n",
    "        if count <= processLimit:\n",
    "            with open(filePath) as JSONfile:\n",
    "                JSONdict = json.loads(JSONfile.read())\n",
    "                for result in JSONdict['result']['results']:\n",
    "                    org = result[\"organization\"][\"title\"]\n",
    "                    name = result[\"name\"]\n",
    "                    notes = result[\"notes\"]\n",
    "                    resourceList = []\n",
    "                    for resource in result['resources']:\n",
    "                        created = resource[\"created\"]\n",
    "                        mimetype = resource[\"mimetype\"]\n",
    "                        url = resource[\"url\"]\n",
    "                        \n",
    "                        try:\n",
    "                            status = requests.head(url)\n",
    "                            print(\"checked: \" + url)\n",
    "                        except:\n",
    "                            print(\"skipped: \" + url)\n",
    "                            status = \"unknown\"\n",
    "                        resourceList.append({\"created\":created, \"mimetype\":mimetype, \"url\":url, \"status\":status})\n",
    "                    output.append({'timestamp':timestamp, \"org\":org, \"name\":name, \"notes\":notes, \"resources\":resourceList})                    \n",
    "                    # print(json.dumps(result, sort_keys=True, indent=4))\n",
    "        count += 1\n",
    "    break\n",
    "outfilePath = fileDirectory + \"/combined/\" + '{:%Y-%m-%d-%H:%M:%S}'.format(datetime.datetime.now()) + \"_\" + \"output.json\"\n",
    "print(outfilePath)\n",
    "with open(outfilePath,\"w\") as fp:\n",
    "    json.dump(output,fp)\n"
   ]
  },
  {
   "cell_type": "code",
   "execution_count": null,
   "metadata": {
    "collapsed": true
   },
   "outputs": [],
   "source": []
  }
 ],
 "metadata": {
  "kernelspec": {
   "display_name": "Python 3",
   "language": "python",
   "name": "python3"
  },
  "language_info": {
   "codemirror_mode": {
    "name": "ipython",
    "version": 3
   },
   "file_extension": ".py",
   "mimetype": "text/x-python",
   "name": "python",
   "nbconvert_exporter": "python",
   "pygments_lexer": "ipython3",
   "version": "3.5.2"
  }
 },
 "nbformat": 4,
 "nbformat_minor": 1
}
